{
  "nbformat": 4,
  "nbformat_minor": 0,
  "metadata": {
    "colab": {
      "provenance": [],
      "authorship_tag": "ABX9TyPvg4Wiq1XDayclQaDKZsdP",
      "include_colab_link": true
    },
    "kernelspec": {
      "name": "python3",
      "display_name": "Python 3"
    },
    "language_info": {
      "name": "python"
    }
  },
  "cells": [
    {
      "cell_type": "markdown",
      "metadata": {
        "id": "view-in-github",
        "colab_type": "text"
      },
      "source": [
        "<a href=\"https://colab.research.google.com/github/Real1CM/MLassignment/blob/main/%E8%AF%BE%E7%A8%8B%E6%8A%A5%E5%91%8A.ipynb\" target=\"_parent\"><img src=\"https://colab.research.google.com/assets/colab-badge.svg\" alt=\"Open In Colab\"/></a>"
      ]
    },
    {
      "cell_type": "markdown",
      "source": [
        "### 机器学习结课作业\n",
        "#### 202408120021142 梁宸铭"
      ],
      "metadata": {
        "id": "raiR8Wetgo8Q"
      }
    },
    {
      "cell_type": "markdown",
      "source": [
        "#### 题目\n",
        "##### 结合自己研究方向或兴趣，选择采用深度模型解决的应用问题。\n",
        "##### 完成研究背景调研、方法说明、方法评价及后续展望。"
      ],
      "metadata": {
        "id": "Fl1tFRTpg1Tt"
      }
    },
    {
      "cell_type": "markdown",
      "source": [
        "#### 研究背景调研\n",
        "人脸识别（Face Recognition）技术近年来成为计算机视觉与人工智能领域的研究热点。其研究背景涵盖了技术需求、算法发展、数据集和应用等多个方面。人脸识别是一种通过分析和比较面部特征来识别个体身份的生物特征识别技术。由于人脸在图像和视频中是公开的、非接触式的生物特征，相较于指纹、虹膜等识别方式，人脸识别应用广泛，且对用户的隐私影响较小。伴随着智能化需求的不断提升，人脸识别在安全、金融、医疗、社交等场景中已逐步成为身份验证的主流技术之一。因此，对人脸识别技术的高精度、低延迟、多场景适应性等要求不断提高，这也成为推动人脸识别技术发展的关键动力。早期的人脸识别依赖传统的图像处理与机器学习算法，如：\n",
        "*   PCA（主成分分析）：Fisherfaces和Eigenfaces算法通过提取面部特征向量实现识别。\n",
        "*   LBP（局部二值模式）：通过分析图像的纹理特征进行人脸检测与识别。\n",
        "\n",
        "随着深度学习的兴起，基于卷积神经网络（CNN）的算法逐渐成为主流。2015年，Facebook推出的DeepFace模型使得人脸识别精度接近人类，推动了深度学习在该领域的快速应用。之后，FaceNet、VGGFace和ArcFace等模型进一步提升了人脸识别的精度和鲁棒性。现今，研究人员探索更加轻量级、高效且易于部署的模型（如MobileFaceNet、EfficientNet等）以适应移动设备的性能需求。\n",
        "\n",
        "\n",
        "\n",
        "常用的标准数据集包括：\n",
        "\n",
        "*   LFW（Labelled Faces in the Wild）：用于评估模型的跨姿态、光照变化下的鲁棒性。\n",
        "*   MS-Celeb-1M：包含上百万张人脸图片，用于大规模模型训练。\n",
        "*   MS-Celeb-1M：包含上百万张人脸图片，用于大规模模型训练。\n",
        "\n",
        "GGFace2 和 CelebA：用于训练模型以提高对人脸表情、年龄变化的识别性能。\n",
        "随着数据集规模和多样性的提升，人脸识别的评估标准也不断改进，从识别精度逐步发展到包含实时性、抗攻击性、跨年龄/性别/种族的公平性等多维度的指标。\n",
        "\n",
        "当前，人脸识别的研究已从追求识别精度逐步转向效率、隐私和公平性方向。例如，联邦学习和隐私计算技术被应用于避免人脸数据直接传输，同时实现分布式模型训练；同时，可解释性和公平性的研究有助于识别和减少偏见。未来，人脸识别技术将进一步发展，向更智能、更安全、更具普适性的方向前进。"
      ],
      "metadata": {
        "id": "ImgTXgo6hMBN"
      }
    },
    {
      "cell_type": "code",
      "execution_count": 2,
      "metadata": {
        "colab": {
          "base_uri": "https://localhost:8080/"
        },
        "id": "dKlpot81gbgn",
        "outputId": "a3d2f115-0bec-44a9-98bf-d4073ada60be"
      },
      "outputs": [
        {
          "output_type": "stream",
          "name": "stdout",
          "text": [
            "Archive:  /content/files-for-face-verification-and-recognition.zip\n",
            "  inflating: /content/files-for-face-verification-and-recognition/images/andrew.jpg  \n",
            "  inflating: /content/files-for-face-verification-and-recognition/images/arnaud.jpg  \n",
            "  inflating: /content/files-for-face-verification-and-recognition/images/benoit.jpg  \n",
            "  inflating: /content/files-for-face-verification-and-recognition/images/bertrand.jpg  \n",
            "  inflating: /content/files-for-face-verification-and-recognition/images/camera_0.jpg  \n",
            "  inflating: /content/files-for-face-verification-and-recognition/images/camera_1.jpg  \n",
            "  inflating: /content/files-for-face-verification-and-recognition/images/camera_2.jpg  \n",
            "  inflating: /content/files-for-face-verification-and-recognition/images/camera_3.jpg  \n",
            "  inflating: /content/files-for-face-verification-and-recognition/images/camera_4.jpg  \n",
            "  inflating: /content/files-for-face-verification-and-recognition/images/camera_5.jpg  \n",
            "  inflating: /content/files-for-face-verification-and-recognition/images/dan.jpg  \n",
            "  inflating: /content/files-for-face-verification-and-recognition/images/danielle.png  \n",
            "  inflating: /content/files-for-face-verification-and-recognition/images/distance_kiank.png  \n",
            "  inflating: /content/files-for-face-verification-and-recognition/images/distance_matrix.png  \n",
            "  inflating: /content/files-for-face-verification-and-recognition/images/f_x.png  \n",
            "  inflating: /content/files-for-face-verification-and-recognition/images/felix.jpg  \n",
            "  inflating: /content/files-for-face-verification-and-recognition/images/inception_block1a.png  \n",
            "  inflating: /content/files-for-face-verification-and-recognition/images/kevin.jpg  \n",
            "  inflating: /content/files-for-face-verification-and-recognition/images/kian.jpg  \n",
            "  inflating: /content/files-for-face-verification-and-recognition/images/pixel_comparison.png  \n",
            "  inflating: /content/files-for-face-verification-and-recognition/images/sebastiano.jpg  \n",
            "  inflating: /content/files-for-face-verification-and-recognition/images/tian.jpg  \n",
            "  inflating: /content/files-for-face-verification-and-recognition/images/triplet_comparison.png  \n",
            "  inflating: /content/files-for-face-verification-and-recognition/images/younes.jpg  \n",
            "  inflating: /content/files-for-face-verification-and-recognition/model/saved_model.pb  \n",
            "  inflating: /content/files-for-face-verification-and-recognition/model/variables/variables.data-00000-of-00001  \n",
            "  inflating: /content/files-for-face-verification-and-recognition/model/variables/variables.index  \n"
          ]
        }
      ],
      "source": [
        "!unzip /content/files-for-face-verification-and-recognition.zip -d /content/files-for-face-verification-and-recognition/"
      ]
    },
    {
      "cell_type": "markdown",
      "source": [
        "#### 方法说明\n",
        "使用已经训练好的模型的权重去预测其他人脸数据，从而判断是不是对应的人物"
      ],
      "metadata": {
        "id": "bYBpzPjxkcES"
      }
    },
    {
      "cell_type": "code",
      "source": [
        "import tensorflow as tf\n",
        "from tensorflow.keras.models import Sequential\n",
        "from tensorflow.keras.layers import Conv2D, ZeroPadding2D, Activation, Input, concatenate\n",
        "from tensorflow.keras.models import Model\n",
        "from tensorflow.keras.layers import BatchNormalization\n",
        "from tensorflow.keras.layers import MaxPooling2D, AveragePooling2D\n",
        "from tensorflow.keras.layers import Concatenate\n",
        "from tensorflow.keras.layers import Lambda, Flatten, Dense\n",
        "from tensorflow.keras.initializers import glorot_uniform\n",
        "from tensorflow.keras.layers import Layer\n",
        "from tensorflow.keras import backend as K\n",
        "K.set_image_data_format('channels_last')\n",
        "import os\n",
        "import numpy as np\n",
        "from numpy import genfromtxt\n",
        "import pandas as pd\n",
        "import PIL\n",
        "\n",
        "%matplotlib inline\n",
        "%load_ext autoreload\n",
        "%autoreload 2"
      ],
      "metadata": {
        "id": "riCno_tilAzK"
      },
      "execution_count": 3,
      "outputs": []
    },
    {
      "cell_type": "code",
      "source": [
        "import tf_keras as k3\n",
        "model = k3.models.load_model('./files-for-face-verification-and-recognition/model')"
      ],
      "metadata": {
        "colab": {
          "base_uri": "https://localhost:8080/"
        },
        "id": "djuE-S9alEq5",
        "outputId": "f0cde31e-e6de-47f2-d6dd-45957682b2e3"
      },
      "execution_count": 5,
      "outputs": [
        {
          "output_type": "stream",
          "name": "stderr",
          "text": [
            "WARNING:tensorflow:SavedModel saved prior to TF 2.5 detected when loading Keras model. Please ensure that you are saving the model with model.save() or tf.keras.models.save_model(), *NOT* tf.saved_model.save(). To confirm, there should be a file named \"keras_metadata.pb\" in the SavedModel directory.\n",
            "WARNING:tensorflow:No training configuration found in save file, so the model was *not* compiled. Compile it manually.\n"
          ]
        }
      ]
    },
    {
      "cell_type": "code",
      "source": [
        "def triplet_loss(y_true, y_pred, alpha = 0.2):\n",
        "\n",
        "    anchor, positive, negative = y_pred[0], y_pred[1], y_pred[2]\n",
        "\n",
        "    pos_dist = tf.reduce_sum(tf.square(tf.subtract(anchor, positive)), axis=-1)\n",
        "    neg_dist = tf.reduce_sum(tf.square(tf.subtract(anchor, negative)), axis=-1)\n",
        "    basic_loss = tf.add(tf.subtract(pos_dist, neg_dist), alpha)\n",
        "    loss = tf.reduce_sum(tf.maximum(basic_loss, 0))\n",
        "\n",
        "    return loss"
      ],
      "metadata": {
        "id": "Yw1RxWKElG2h"
      },
      "execution_count": 4,
      "outputs": []
    },
    {
      "cell_type": "code",
      "source": [
        "FRmodel = model"
      ],
      "metadata": {
        "id": "dWS81HzKlJl6"
      },
      "execution_count": 6,
      "outputs": []
    },
    {
      "cell_type": "code",
      "source": [
        "def img_to_encoding(image_path, model):\n",
        "    img = tf.keras.preprocessing.image.load_img(image_path, target_size=(160, 160))\n",
        "    img = np.around(np.array(img) / 255.0, decimals=12)\n",
        "    x_train = np.expand_dims(img, axis=0)\n",
        "    embedding = model.predict_on_batch(x_train)\n",
        "    return embedding / np.linalg.norm(embedding, ord=2)"
      ],
      "metadata": {
        "id": "mRQtAYKplbuq"
      },
      "execution_count": 8,
      "outputs": []
    },
    {
      "cell_type": "code",
      "source": [
        "database = {}\n",
        "database[\"danielle\"] = img_to_encoding(\"./files-for-face-verification-and-recognition/images/danielle.png\", FRmodel)\n",
        "database[\"younes\"] = img_to_encoding(\"./files-for-face-verification-and-recognition/images/younes.jpg\", FRmodel)\n",
        "database[\"tian\"] = img_to_encoding(\"./files-for-face-verification-and-recognition/images/tian.jpg\", FRmodel)\n",
        "database[\"andrew\"] = img_to_encoding(\"./files-for-face-verification-and-recognition/images/andrew.jpg\", FRmodel)\n",
        "database[\"kian\"] = img_to_encoding(\"./files-for-face-verification-and-recognition/images/kian.jpg\", FRmodel)\n",
        "database[\"dan\"] = img_to_encoding(\"./files-for-face-verification-and-recognition/images/dan.jpg\", FRmodel)\n",
        "database[\"sebastiano\"] = img_to_encoding(\"./files-for-face-verification-and-recognition/images/sebastiano.jpg\", FRmodel)\n",
        "database[\"bertrand\"] = img_to_encoding(\"./files-for-face-verification-and-recognition/images/bertrand.jpg\", FRmodel)\n",
        "database[\"kevin\"] = img_to_encoding(\"./files-for-face-verification-and-recognition/images/kevin.jpg\", FRmodel)\n",
        "database[\"felix\"] = img_to_encoding(\"./files-for-face-verification-and-recognition/images/felix.jpg\", FRmodel)\n",
        "database[\"benoit\"] = img_to_encoding(\"./files-for-face-verification-and-recognition/images/benoit.jpg\", FRmodel)\n",
        "database[\"arnaud\"] = img_to_encoding(\"./files-for-face-verification-and-recognition/images/arnaud.jpg\", FRmodel)"
      ],
      "metadata": {
        "id": "CnA2uT9Xleai"
      },
      "execution_count": 9,
      "outputs": []
    },
    {
      "cell_type": "code",
      "source": [
        "danielle = tf.keras.preprocessing.image.load_img(\"./files-for-face-verification-and-recognition/images/danielle.png\", target_size=(160, 160))\n",
        "kian = tf.keras.preprocessing.image.load_img(\"./files-for-face-verification-and-recognition/images/kian.jpg\", target_size=(160, 160))"
      ],
      "metadata": {
        "id": "SCMFhzXvloJp"
      },
      "execution_count": 10,
      "outputs": []
    },
    {
      "cell_type": "code",
      "source": [
        "np.around(np.array(kian) / 255.0, decimals=12).shape"
      ],
      "metadata": {
        "colab": {
          "base_uri": "https://localhost:8080/"
        },
        "id": "G7S992U3lo7C",
        "outputId": "51e2aded-b61e-48f7-9f9b-1e28b15b7869"
      },
      "execution_count": 11,
      "outputs": [
        {
          "output_type": "execute_result",
          "data": {
            "text/plain": [
              "(160, 160, 3)"
            ]
          },
          "metadata": {},
          "execution_count": 11
        }
      ]
    },
    {
      "cell_type": "code",
      "source": [
        "np.around(np.array(danielle) / 255.0, decimals=12).shape"
      ],
      "metadata": {
        "colab": {
          "base_uri": "https://localhost:8080/"
        },
        "id": "07GQd3yclq5B",
        "outputId": "b7f01237-ee6d-46af-b277-206ce061eaab"
      },
      "execution_count": 12,
      "outputs": [
        {
          "output_type": "execute_result",
          "data": {
            "text/plain": [
              "(160, 160, 3)"
            ]
          },
          "metadata": {},
          "execution_count": 12
        }
      ]
    },
    {
      "cell_type": "markdown",
      "source": [
        "因为人脸识别多数应用在门禁上，比如实验室门禁。故此处使用vertify函数来模拟开门关门，如果是正确的人就打印允许进入的信息来模拟门禁。"
      ],
      "metadata": {
        "id": "Tys2TmTSmwpA"
      }
    },
    {
      "cell_type": "code",
      "source": [
        "def verify(image_path, identity, database, model):\n",
        "\n",
        "    encoding = img_to_encoding(image_path, model)\n",
        "    dist = np.linalg.norm(tf.subtract(database[identity], encoding))\n",
        "    if dist < 0.7:\n",
        "        print(\"It's \" + str(identity) + \", welcome in!\")\n",
        "        door_open = True\n",
        "    else:\n",
        "        print(\"It's not \" + str(identity) + \", please go away\")\n",
        "        door_open = False\n",
        "    return dist, door_open"
      ],
      "metadata": {
        "id": "yE4HbLOZly5K"
      },
      "execution_count": 15,
      "outputs": []
    },
    {
      "cell_type": "code",
      "source": [
        "distance, door_open_flag = verify(\"./files-for-face-verification-and-recognition/images/camera_0.jpg\", \"younes\", database, FRmodel)\n",
        "print(\"(\", distance, \",\", door_open_flag, \")\")"
      ],
      "metadata": {
        "colab": {
          "base_uri": "https://localhost:8080/"
        },
        "id": "aHrVJZdtlzop",
        "outputId": "ecc0a267-8b43-4835-8418-1b3fb59e9d16"
      },
      "execution_count": 16,
      "outputs": [
        {
          "output_type": "stream",
          "name": "stdout",
          "text": [
            "It's younes, welcome in!\n",
            "( 0.6019791 , True )\n"
          ]
        }
      ]
    },
    {
      "cell_type": "code",
      "source": [
        "verify(\"./files-for-face-verification-and-recognition/images/camera_2.jpg\", \"kian\", database, FRmodel)"
      ],
      "metadata": {
        "colab": {
          "base_uri": "https://localhost:8080/"
        },
        "id": "RpKZPNyBl2eh",
        "outputId": "31ba8f9f-a09e-4beb-a441-329713b2d589"
      },
      "execution_count": 17,
      "outputs": [
        {
          "output_type": "stream",
          "name": "stdout",
          "text": [
            "It's not kian, please go away\n"
          ]
        },
        {
          "output_type": "execute_result",
          "data": {
            "text/plain": [
              "(1.0130048, False)"
            ]
          },
          "metadata": {},
          "execution_count": 17
        }
      ]
    },
    {
      "cell_type": "code",
      "source": [
        "def who_is_it(image_path, database, model):\n",
        "\n",
        "    encoding =  img_to_encoding(image_path, model)\n",
        "\n",
        "    min_dist = 100\n",
        "\n",
        "    for (name, db_enc) in database.items():\n",
        "\n",
        "        dist = np.linalg.norm(tf.subtract(db_enc, encoding))\n",
        "\n",
        "        if dist < min_dist:\n",
        "            min_dist = dist\n",
        "            identity = name\n",
        "\n",
        "    if min_dist > 0.7:\n",
        "        print(\"Not in the database.\")\n",
        "    else:\n",
        "        print (\"it's \" + str(identity) + \", the distance is \" + str(min_dist))\n",
        "\n",
        "    return min_dist, identity"
      ],
      "metadata": {
        "id": "iloGqpnGl5fY"
      },
      "execution_count": 18,
      "outputs": []
    },
    {
      "cell_type": "code",
      "source": [
        "who_is_it(\"./files-for-face-verification-and-recognition/images/camera_0.jpg\", database, FRmodel)\n",
        "\n",
        "test1 = who_is_it(\"./files-for-face-verification-and-recognition/images/camera_0.jpg\", database, FRmodel)\n",
        "\n",
        "test2 = who_is_it(\"./files-for-face-verification-and-recognition/images/younes.jpg\", database, FRmodel)"
      ],
      "metadata": {
        "colab": {
          "base_uri": "https://localhost:8080/"
        },
        "id": "RrBvGupIl_Hq",
        "outputId": "04e7e633-fea8-44d3-9633-e12338be8202"
      },
      "execution_count": 19,
      "outputs": [
        {
          "output_type": "stream",
          "name": "stdout",
          "text": [
            "it's younes, the distance is 0.6019791\n",
            "it's younes, the distance is 0.6019791\n",
            "it's younes, the distance is 0.0\n"
          ]
        }
      ]
    },
    {
      "cell_type": "markdown",
      "source": [
        "#### 方法评价\n",
        "利用训练好的模型来预测人脸，使用的训练集和测试集中图片是重合的，模型不能在没有预先训练的情况下做zero-shot或者few-shot的推理，这个人脸识别模型本身泛化能力欠缺，可以考虑利用多模态MutiModel来提高它的泛化能力。"
      ],
      "metadata": {
        "id": "tK8ustfOmEsS"
      }
    },
    {
      "cell_type": "markdown",
      "source": [
        "#### 后续展望\n",
        "人脸识别技术在快速发展中面临提升识别精度、实现多领域应用、增强隐私保护等挑战。未来的研究将着重在复杂环境下提升深度学习模型的识别能力，同时推动该技术在智慧城市、公共安全、个性化教育等领域的深入应用。随着隐私问题日益受到关注，加密和联邦学习等技术将帮助实现数据合规使用。此外，设备端的轻量化和低能耗模型也成为必要，以适应移动和物联网设备的需求。未来的人脸识别系统可能融合多模态信息，如声音、动作等，从而提高可靠性和适应性。同时，针对对抗攻击的防御技术也将不断优化，以保障系统的安全性。人脸识别技术的未来不仅在于识别精度和广泛应用，更在于实现智能、可信赖的发展路径。"
      ],
      "metadata": {
        "id": "KVfl-ZsXmJgS"
      }
    },
    {
      "cell_type": "markdown",
      "source": [
        "附[完整示例](https://github.com/Real1CM/MLassignment)"
      ],
      "metadata": {
        "id": "TbCmFNHJoLMQ"
      }
    }
  ]
}