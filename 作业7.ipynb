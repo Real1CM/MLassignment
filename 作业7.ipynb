{
  "cells": [
    {
      "cell_type": "markdown",
      "metadata": {
        "id": "view-in-github",
        "colab_type": "text"
      },
      "source": [
        "<a href=\"https://colab.research.google.com/github/Real1CM/MLassignment/blob/main/%E4%BD%9C%E4%B8%9A7.ipynb\" target=\"_parent\"><img src=\"https://colab.research.google.com/assets/colab-badge.svg\" alt=\"Open In Colab\"/></a>"
      ]
    },
    {
      "cell_type": "code",
      "execution_count": 15,
      "metadata": {
        "colab": {
          "base_uri": "https://localhost:8080/"
        },
        "id": "m2-71X-jY7g-",
        "outputId": "59b957c1-2254-47df-b762-679eab4603ee"
      },
      "outputs": [
        {
          "output_type": "stream",
          "name": "stdout",
          "text": [
            "解压完成！\n"
          ]
        }
      ],
      "source": [
        "import os\n",
        "import zipfile\n",
        "import tarfile\n",
        "\n",
        "# 解压 .tar.gz 文件\n",
        "def extract_tar_gz(file_path, extract_path):\n",
        "    with tarfile.open(file_path, \"r:gz\") as tar:\n",
        "        tar.extractall(path=extract_path)\n",
        "\n",
        "# 解压 .zip 文件\n",
        "def extract_zip(file_path, extract_path):\n",
        "    with zipfile.ZipFile(file_path, 'r') as zip_ref:\n",
        "        zip_ref.extractall(extract_path)\n",
        "\n",
        "# 文件路径\n",
        "tar_gz_file = './aclImdb_v1.tar.gz'\n",
        "train_zip = './train.zip'\n",
        "test_zip = './test.zip'\n",
        "\n",
        "# 解压缩路径\n",
        "base_dir = './aclImdb'\n",
        "train_dir = os.path.join(base_dir, 'train')\n",
        "test_dir = os.path.join(base_dir, 'test')\n",
        "\n",
        "# 解压缩\n",
        "extract_tar_gz(tar_gz_file, './')\n",
        "extract_zip(train_zip, './')\n",
        "extract_zip(test_zip, './')\n",
        "\n",
        "print(\"解压完成！\")"
      ]
    },
    {
      "cell_type": "code",
      "execution_count": null,
      "metadata": {
        "colab": {
          "base_uri": "https://localhost:8080/"
        },
        "id": "p1NRAMUYZ1jh",
        "outputId": "6b13d010-3a67-4119-eb68-c10ed4829a4e"
      },
      "outputs": [
        {
          "name": "stdout",
          "output_type": "stream",
          "text": [
            "词汇表大小: 88583\n",
            "训练集样本数量: 25000\n"
          ]
        }
      ],
      "source": [
        "import os\n",
        "import numpy as np\n",
        "from tensorflow.keras.preprocessing.text import Tokenizer\n",
        "from tensorflow.keras.preprocessing.sequence import pad_sequences\n",
        "\n",
        "# 读取文件并提取文本数据\n",
        "def load_data_from_folder(folder_path, label):\n",
        "    texts = []\n",
        "    labels = []\n",
        "    for file_name in os.listdir(folder_path):\n",
        "        with open(os.path.join(folder_path, file_name), 'r', encoding='utf-8') as f:\n",
        "            texts.append(f.read())\n",
        "            labels.append(label)\n",
        "    return texts, labels\n",
        "\n",
        "# 加载训练数据\n",
        "neg_train_folder = os.path.join(train_dir, 'neg')\n",
        "pos_train_folder = os.path.join(train_dir, 'pos')\n",
        "\n",
        "neg_train_texts, neg_train_labels = load_data_from_folder(neg_train_folder, 0)\n",
        "pos_train_texts, pos_train_labels = load_data_from_folder(pos_train_folder, 1)\n",
        "\n",
        "# 合并数据\n",
        "train_texts = neg_train_texts + pos_train_texts\n",
        "train_labels = neg_train_labels + pos_train_labels\n",
        "\n",
        "# 使用 Keras Tokenizer 来进行分词和创建字典\n",
        "tokenizer = Tokenizer()\n",
        "tokenizer.fit_on_texts(train_texts)\n",
        "\n",
        "# 将文本转换为基于字典的索引序列\n",
        "train_sequences = tokenizer.texts_to_sequences(train_texts)\n",
        "\n",
        "# 统计词汇表大小\n",
        "vocab_size = len(tokenizer.word_index) + 1\n",
        "print(f\"词汇表大小: {vocab_size}\")\n",
        "\n",
        "# 填充序列，使得每个序列长度相同\n",
        "max_length = 500  # 设置最大序列长度\n",
        "X_train = pad_sequences(train_sequences, maxlen=max_length)\n",
        "y_train = np.array(train_labels)\n",
        "\n",
        "print(f\"训练集样本数量: {X_train.shape[0]}\")"
      ]
    },
    {
      "cell_type": "code",
      "execution_count": null,
      "metadata": {
        "colab": {
          "base_uri": "https://localhost:8080/"
        },
        "id": "oWk7kq2NZ4az",
        "outputId": "cf6e74a5-1d79-4c6e-8fba-a2d5874ba400"
      },
      "outputs": [
        {
          "name": "stdout",
          "output_type": "stream",
          "text": [
            "[   22    29   121     1    62     4  3417    10    78     7     7    70\n",
            "     1     5    27    39    21     5    27  5229    21     1  2485   407\n",
            "    44    74  3584    80     1  1559    35   108   208    12    42    21\n",
            "    52   218     8   189     9   283    12    84     5   891    16     8\n",
            "   189    10   166  3417     3    49    18  6108  3866   294    42    21\n",
            "    57  5674   115 18510 10307     2  6538  6259    23   744   208   125\n",
            "    16     3 30568 19499   921     2  4988    21    96   227   493 10086\n",
            "  3285   126  2696   122    24 27631 40830    77    94 17633 21905   215\n",
            "    12    75   342    47    23   772     4   405    12    23   125    71\n",
            "    11    31  2278     7     7    10   525    63   926    96    73    20\n",
            "     1    17   244    10    77 18511     1  1250   524  3169   387     7\n",
            "     7   860  1946     2     1 13420  1171     3  3146   497    76     5\n",
            "  1257     1    17    33   939    15  3417  4632  3286    95    11 11037\n",
            " 11037 11037     2  5399    15     1    88   354   916   922   387     4\n",
            "  3169   123  3383    10   771   107    98     4     1 34701   659     7\n",
            "     7   134   538  4311     4   881  4517   163     1   825     4    12\n",
            "   387   524   234     9     6    21    63     3    17   244  1519  9878\n",
            "   292   136   143  1574     4 18512   344    36   702   322   276    11\n",
            "     6    32  6792     4   343 27632    99     1 12606  1048     3   173\n",
            "   185   122     3    49   108    49  7799   188   132     1   169    15\n",
            "   130     7     7     1 17634   804  1032     1  3210  3287  2279   641\n",
            "    23    30   115  1495     2    51     1    17   407    60   215    12\n",
            "    75     6   162   125    10   380    14     3   486    17    21    14\n",
            "  1247    37  1883     4   831    71     1  3169   307     4     9    22\n",
            "   121     1   120   212    27    75    10  1496     1   233    55    10\n",
            "   216     9    13   447  1918   593   446   276  2306    39  3008   208\n",
            "   466    10   800     2   800     2   800     5    27  2161    18    10\n",
            "    40   423    61     1  2547   344    37 11307  1647 52007  1407     2\n",
            "    51   195     1  1525   344     4     1   387    70 12607     2    31\n",
            "  2547    10   380   172   744   231    39    35   276    69    57  5456\n",
            "     1   330    55    10   800     5   103     9    10   158    57   459\n",
            "    30     1   168   635   471   255   160   156     2   328   516    53\n",
            "  4201   231   156     7     7     1    17   215   524    42    40     3\n",
            "  1121   307     4  3417     1   153    23    49   192     2   148     1\n",
            "  3096   215     1   830   195    21     8   407     3   279     5   780\n",
            "    11    19     7     7   685   378    15  3417   286   419   286    15\n",
            "     1  3169   307     7     7  6539   135   135   135  3169     0     0\n",
            "     0     0     0     0     0     0     0     0     0     0     0     0\n",
            "     0     0     0     0     0     0     0     0     0     0     0     0\n",
            "     0     0     0     0     0     0     0     0     0     0     0     0\n",
            "     0     0     0     0     0     0     0     0     0     0     0     0\n",
            "     0     0     0     0     0     0     0     0]\n"
          ]
        }
      ],
      "source": [
        "# 填充到最大长度\n",
        "X_train_padded = pad_sequences(train_sequences, maxlen=max_length, padding='post', truncating='post')\n",
        "\n",
        "# 打印填充后的样本\n",
        "print(X_train_padded[0])  # 打印第一个样本的填充后序列"
      ]
    },
    {
      "cell_type": "code",
      "execution_count": null,
      "metadata": {
        "colab": {
          "base_uri": "https://localhost:8080/",
          "height": 280
        },
        "id": "r2b24-Z-Z8Zi",
        "outputId": "a3d701ad-f2f3-433b-a552-b06bc902df52"
      },
      "outputs": [
        {
          "name": "stderr",
          "output_type": "stream",
          "text": [
            "/usr/local/lib/python3.10/dist-packages/keras/src/layers/core/embedding.py:90: UserWarning: Argument `input_length` is deprecated. Just remove it.\n",
            "  warnings.warn(\n"
          ]
        },
        {
          "data": {
            "text/html": [
              "<pre style=\"white-space:pre;overflow-x:auto;line-height:normal;font-family:Menlo,'DejaVu Sans Mono',consolas,'Courier New',monospace\"><span style=\"font-weight: bold\">Model: \"sequential\"</span>\n",
              "</pre>\n"
            ],
            "text/plain": [
              "\u001b[1mModel: \"sequential\"\u001b[0m\n"
            ]
          },
          "metadata": {},
          "output_type": "display_data"
        },
        {
          "data": {
            "text/html": [
              "<pre style=\"white-space:pre;overflow-x:auto;line-height:normal;font-family:Menlo,'DejaVu Sans Mono',consolas,'Courier New',monospace\">┏━━━━━━━━━━━━━━━━━━━━━━━━━━━━━━━━━━━━━━┳━━━━━━━━━━━━━━━━━━━━━━━━━━━━━┳━━━━━━━━━━━━━━━━━┓\n",
              "┃<span style=\"font-weight: bold\"> Layer (type)                         </span>┃<span style=\"font-weight: bold\"> Output Shape                </span>┃<span style=\"font-weight: bold\">         Param # </span>┃\n",
              "┡━━━━━━━━━━━━━━━━━━━━━━━━━━━━━━━━━━━━━━╇━━━━━━━━━━━━━━━━━━━━━━━━━━━━━╇━━━━━━━━━━━━━━━━━┩\n",
              "│ embedding (<span style=\"color: #0087ff; text-decoration-color: #0087ff\">Embedding</span>)                │ ?                           │     <span style=\"color: #00af00; text-decoration-color: #00af00\">0</span> (unbuilt) │\n",
              "├──────────────────────────────────────┼─────────────────────────────┼─────────────────┤\n",
              "│ lstm (<span style=\"color: #0087ff; text-decoration-color: #0087ff\">LSTM</span>)                          │ ?                           │     <span style=\"color: #00af00; text-decoration-color: #00af00\">0</span> (unbuilt) │\n",
              "├──────────────────────────────────────┼─────────────────────────────┼─────────────────┤\n",
              "│ dense (<span style=\"color: #0087ff; text-decoration-color: #0087ff\">Dense</span>)                        │ ?                           │     <span style=\"color: #00af00; text-decoration-color: #00af00\">0</span> (unbuilt) │\n",
              "└──────────────────────────────────────┴─────────────────────────────┴─────────────────┘\n",
              "</pre>\n"
            ],
            "text/plain": [
              "┏━━━━━━━━━━━━━━━━━━━━━━━━━━━━━━━━━━━━━━┳━━━━━━━━━━━━━━━━━━━━━━━━━━━━━┳━━━━━━━━━━━━━━━━━┓\n",
              "┃\u001b[1m \u001b[0m\u001b[1mLayer (type)                        \u001b[0m\u001b[1m \u001b[0m┃\u001b[1m \u001b[0m\u001b[1mOutput Shape               \u001b[0m\u001b[1m \u001b[0m┃\u001b[1m \u001b[0m\u001b[1m        Param #\u001b[0m\u001b[1m \u001b[0m┃\n",
              "┡━━━━━━━━━━━━━━━━━━━━━━━━━━━━━━━━━━━━━━╇━━━━━━━━━━━━━━━━━━━━━━━━━━━━━╇━━━━━━━━━━━━━━━━━┩\n",
              "│ embedding (\u001b[38;5;33mEmbedding\u001b[0m)                │ ?                           │     \u001b[38;5;34m0\u001b[0m (unbuilt) │\n",
              "├──────────────────────────────────────┼─────────────────────────────┼─────────────────┤\n",
              "│ lstm (\u001b[38;5;33mLSTM\u001b[0m)                          │ ?                           │     \u001b[38;5;34m0\u001b[0m (unbuilt) │\n",
              "├──────────────────────────────────────┼─────────────────────────────┼─────────────────┤\n",
              "│ dense (\u001b[38;5;33mDense\u001b[0m)                        │ ?                           │     \u001b[38;5;34m0\u001b[0m (unbuilt) │\n",
              "└──────────────────────────────────────┴─────────────────────────────┴─────────────────┘\n"
            ]
          },
          "metadata": {},
          "output_type": "display_data"
        },
        {
          "data": {
            "text/html": [
              "<pre style=\"white-space:pre;overflow-x:auto;line-height:normal;font-family:Menlo,'DejaVu Sans Mono',consolas,'Courier New',monospace\"><span style=\"font-weight: bold\"> Total params: </span><span style=\"color: #00af00; text-decoration-color: #00af00\">0</span> (0.00 B)\n",
              "</pre>\n"
            ],
            "text/plain": [
              "\u001b[1m Total params: \u001b[0m\u001b[38;5;34m0\u001b[0m (0.00 B)\n"
            ]
          },
          "metadata": {},
          "output_type": "display_data"
        },
        {
          "data": {
            "text/html": [
              "<pre style=\"white-space:pre;overflow-x:auto;line-height:normal;font-family:Menlo,'DejaVu Sans Mono',consolas,'Courier New',monospace\"><span style=\"font-weight: bold\"> Trainable params: </span><span style=\"color: #00af00; text-decoration-color: #00af00\">0</span> (0.00 B)\n",
              "</pre>\n"
            ],
            "text/plain": [
              "\u001b[1m Trainable params: \u001b[0m\u001b[38;5;34m0\u001b[0m (0.00 B)\n"
            ]
          },
          "metadata": {},
          "output_type": "display_data"
        },
        {
          "data": {
            "text/html": [
              "<pre style=\"white-space:pre;overflow-x:auto;line-height:normal;font-family:Menlo,'DejaVu Sans Mono',consolas,'Courier New',monospace\"><span style=\"font-weight: bold\"> Non-trainable params: </span><span style=\"color: #00af00; text-decoration-color: #00af00\">0</span> (0.00 B)\n",
              "</pre>\n"
            ],
            "text/plain": [
              "\u001b[1m Non-trainable params: \u001b[0m\u001b[38;5;34m0\u001b[0m (0.00 B)\n"
            ]
          },
          "metadata": {},
          "output_type": "display_data"
        }
      ],
      "source": [
        "from tensorflow.keras.models import Sequential\n",
        "from tensorflow.keras.layers import Embedding, LSTM, Dense, Dropout\n",
        "\n",
        "# 构建模型\n",
        "model = Sequential()\n",
        "model.add(Embedding(input_dim=vocab_size, output_dim=128, input_length=max_length))\n",
        "model.add(LSTM(128, dropout=0.2, recurrent_dropout=0.2))\n",
        "model.add(Dense(1, activation='sigmoid'))\n",
        "\n",
        "# 编译模型\n",
        "model.compile(loss='binary_crossentropy', optimizer='adam', metrics=['accuracy'])\n",
        "\n",
        "# 打印模型摘要\n",
        "model.summary()"
      ]
    },
    {
      "cell_type": "code",
      "execution_count": null,
      "metadata": {
        "colab": {
          "background_save": true,
          "base_uri": "https://localhost:8080/"
        },
        "id": "tw_V95feaDaO",
        "outputId": "fa75f048-70f7-4256-9ede-1d779a1838ab"
      },
      "outputs": [
        {
          "name": "stdout",
          "output_type": "stream",
          "text": [
            "Epoch 1/5\n",
            "\u001b[1m313/313\u001b[0m \u001b[32m━━━━━━━━━━━━━━━━━━━━\u001b[0m\u001b[37m\u001b[0m \u001b[1m477s\u001b[0m 2s/step - accuracy: 0.6206 - loss: 0.6652 - val_accuracy: 0.0000e+00 - val_loss: 0.9682\n",
            "Epoch 2/5\n",
            "\u001b[1m313/313\u001b[0m \u001b[32m━━━━━━━━━━━━━━━━━━━━\u001b[0m\u001b[37m\u001b[0m \u001b[1m504s\u001b[0m 2s/step - accuracy: 0.6280 - loss: 0.6591 - val_accuracy: 0.0154 - val_loss: 0.9144\n",
            "Epoch 3/5\n",
            "\u001b[1m313/313\u001b[0m \u001b[32m━━━━━━━━━━━━━━━━━━━━\u001b[0m\u001b[37m\u001b[0m \u001b[1m479s\u001b[0m 2s/step - accuracy: 0.6453 - loss: 0.6427 - val_accuracy: 0.0526 - val_loss: 0.9483\n",
            "Epoch 4/5\n",
            "\u001b[1m313/313\u001b[0m \u001b[32m━━━━━━━━━━━━━━━━━━━━\u001b[0m\u001b[37m\u001b[0m \u001b[1m503s\u001b[0m 2s/step - accuracy: 0.6547 - loss: 0.6202 - val_accuracy: 0.0442 - val_loss: 1.1164\n",
            "Epoch 5/5\n",
            "\u001b[1m313/313\u001b[0m \u001b[32m━━━━━━━━━━━━━━━━━━━━\u001b[0m\u001b[37m\u001b[0m \u001b[1m472s\u001b[0m 2s/step - accuracy: 0.6544 - loss: 0.6140 - val_accuracy: 0.0456 - val_loss: 0.9596\n"
          ]
        },
        {
          "data": {
            "text/plain": [
              "<keras.src.callbacks.history.History at 0x783d8986e890>"
            ]
          },
          "execution_count": 9,
          "metadata": {},
          "output_type": "execute_result"
        }
      ],
      "source": [
        "# 训练模型\n",
        "model.fit(X_train_padded, y_train, epochs=5, batch_size=64, validation_split=0.2)"
      ]
    },
    {
      "cell_type": "code",
      "execution_count": 14,
      "metadata": {
        "id": "-qfnJWkeaFQO",
        "colab": {
          "base_uri": "https://localhost:8080/"
        },
        "outputId": "7802a9d5-9d74-4c25-cf11-a2aa89bc3c47"
      },
      "outputs": [
        {
          "output_type": "stream",
          "name": "stdout",
          "text": [
            "\u001b[1m782/782\u001b[0m \u001b[32m━━━━━━━━━━━━━━━━━━━━\u001b[0m\u001b[37m\u001b[0m \u001b[1m217s\u001b[0m 278ms/step - accuracy: 0.5495 - loss: 1.2798\n",
            "测试集准确率: 53.01%\n"
          ]
        }
      ],
      "source": [
        "# 加载测试数据\n",
        "neg_test_folder = os.path.join(test_dir, 'neg')\n",
        "pos_test_folder = os.path.join(test_dir, 'pos')\n",
        "\n",
        "neg_test_texts, neg_test_labels = load_data_from_folder(neg_test_folder, 0)\n",
        "pos_test_texts, pos_test_labels = load_data_from_folder(pos_test_folder, 1)\n",
        "\n",
        "# 合并测试数据\n",
        "test_texts = neg_test_texts + pos_test_texts\n",
        "test_labels = neg_test_labels + pos_test_labels\n",
        "\n",
        "# 将测试数据转换为索引序列\n",
        "test_sequences = tokenizer.texts_to_sequences(test_texts)\n",
        "X_test = pad_sequences(test_sequences, maxlen=max_length)\n",
        "y_test = np.array(test_labels)\n",
        "\n",
        "# 评估模型\n",
        "loss, accuracy = model.evaluate(X_test, y_test)\n",
        "print(f\"测试集准确率: {accuracy*100:.2f}%\")"
      ]
    }
  ],
  "metadata": {
    "colab": {
      "provenance": [],
      "authorship_tag": "ABX9TyO0IGvFtBk6T5UU1Wekh2dO",
      "include_colab_link": true
    },
    "kernelspec": {
      "display_name": "Python 3",
      "name": "python3"
    },
    "language_info": {
      "name": "python"
    }
  },
  "nbformat": 4,
  "nbformat_minor": 0
}